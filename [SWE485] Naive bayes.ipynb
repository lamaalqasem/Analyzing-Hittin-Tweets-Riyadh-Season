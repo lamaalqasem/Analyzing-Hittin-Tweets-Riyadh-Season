{
 "cells": [
  {
   "cell_type": "markdown",
   "metadata": {},
   "source": [
    "# Naive bayes method"
   ]
  },
  {
   "cell_type": "code",
   "execution_count": 12,
   "metadata": {},
   "outputs": [],
   "source": [
    "import matplotlib.pyplot as plt\n",
    "import seaborn\n",
    "import plotly\n",
    "#import plotly.plotly as py\n",
    "import plotly.graph_objs as go\n",
    "#plotly.tools.set_credentials_file(username='XXXXXX', api_key='XXXXXXX')\n",
    "%matplotlib inline\n",
    "\n",
    "import pandas as pd\n",
    "import numpy as np\n",
    "from sklearn.naive_bayes import MultinomialNB\n",
    "from sklearn.feature_extraction.text import TfidfVectorizer\n",
    "from sklearn.model_selection import train_test_split\n",
    "from sklearn.model_selection import cross_val_score\n",
    "from sklearn.metrics  import confusion_matrix, classification_report\n",
    "from sklearn import metrics"
   ]
  },
  {
   "cell_type": "code",
   "execution_count": 13,
   "metadata": {},
   "outputs": [],
   "source": [
    "# read csv file and save it in a data frame\n",
    "data_df=pd.read_csv(\"HittenTweetsWithPredictions.csv\")"
   ]
  },
  {
   "cell_type": "code",
   "execution_count": 14,
   "metadata": {},
   "outputs": [],
   "source": [
    "# remove data with NAN predictions\n",
    "data_df=data_df[~data_df['predictions'].isna()]"
   ]
  },
  {
   "cell_type": "code",
   "execution_count": 15,
   "metadata": {},
   "outputs": [],
   "source": [
    "# remove the \"Neutral\" class\n",
    "data_df=data_df[data_df['predictions'] != \"neutral\"]"
   ]
  },
  {
   "cell_type": "code",
   "execution_count": 16,
   "metadata": {},
   "outputs": [
    {
     "data": {
      "text/html": [
       "<div>\n",
       "<style scoped>\n",
       "    .dataframe tbody tr th:only-of-type {\n",
       "        vertical-align: middle;\n",
       "    }\n",
       "\n",
       "    .dataframe tbody tr th {\n",
       "        vertical-align: top;\n",
       "    }\n",
       "\n",
       "    .dataframe thead th {\n",
       "        text-align: right;\n",
       "    }\n",
       "</style>\n",
       "<table border=\"1\" class=\"dataframe\">\n",
       "  <thead>\n",
       "    <tr style=\"text-align: right;\">\n",
       "      <th></th>\n",
       "      <th>Unnamed: 0</th>\n",
       "      <th>replies</th>\n",
       "      <th>retweets</th>\n",
       "      <th>favorites</th>\n",
       "      <th>text</th>\n",
       "      <th>day</th>\n",
       "      <th>time</th>\n",
       "      <th>tokens</th>\n",
       "      <th>normalized</th>\n",
       "      <th>tokenized</th>\n",
       "      <th>predictions</th>\n",
       "      <th>username</th>\n",
       "    </tr>\n",
       "  </thead>\n",
       "  <tbody>\n",
       "    <tr>\n",
       "      <th>0</th>\n",
       "      <td>0</td>\n",
       "      <td>0</td>\n",
       "      <td>0</td>\n",
       "      <td>0</td>\n",
       "      <td>وماذا عن إزعاج ما يزيد على ستة أشهر لأحياء سكن...</td>\n",
       "      <td>02/08/2020</td>\n",
       "      <td>09:16</td>\n",
       "      <td>['وماذا', 'إزعاج', 'يزيد', 'ستة', 'أشهر', 'لأح...</td>\n",
       "      <td>وماذا ازعاج يزيد سته اشهر لاحياء سكنيه والاف ...</td>\n",
       "      <td>['وماذا', 'ازعاج', 'يزيد', 'سته', 'اشهر', 'لاح...</td>\n",
       "      <td>0</td>\n",
       "      <td>SsE1j8MeFSuOZY9</td>\n",
       "    </tr>\n",
       "    <tr>\n",
       "      <th>1</th>\n",
       "      <td>1</td>\n",
       "      <td>0</td>\n",
       "      <td>0</td>\n",
       "      <td>0</td>\n",
       "      <td>عدلك يا رب</td>\n",
       "      <td>02/04/2020</td>\n",
       "      <td>22:03</td>\n",
       "      <td>['عدلك', 'رب']</td>\n",
       "      <td>عدلك رب</td>\n",
       "      <td>['عدلك', 'رب']</td>\n",
       "      <td>1</td>\n",
       "      <td>Bndr888_</td>\n",
       "    </tr>\n",
       "    <tr>\n",
       "      <th>2</th>\n",
       "      <td>2</td>\n",
       "      <td>1</td>\n",
       "      <td>0</td>\n",
       "      <td>0</td>\n",
       "      <td>إلا قرقعة ودوشة قارفينا ببيتي قال فن قال</td>\n",
       "      <td>24/01/2020</td>\n",
       "      <td>20:02</td>\n",
       "      <td>['قرقعة', 'ودوشة', 'قارفينا', 'ببيتي', 'قال', ...</td>\n",
       "      <td>قرقعه ودوشه قارفينا بيتي قال فن قال</td>\n",
       "      <td>['قرقعه', 'ودوشه', 'قارفينا', 'بيتي', 'قال', '...</td>\n",
       "      <td>0</td>\n",
       "      <td>Bndr888_</td>\n",
       "    </tr>\n",
       "    <tr>\n",
       "      <th>3</th>\n",
       "      <td>3</td>\n",
       "      <td>1</td>\n",
       "      <td>0</td>\n",
       "      <td>0</td>\n",
       "      <td>٦ شهور محبورة اعيش ببيتي والبوليفارد يردح على ...</td>\n",
       "      <td>21/01/2020</td>\n",
       "      <td>21:03</td>\n",
       "      <td>['٦', 'شهور', 'محبورة', 'اعيش', 'ببيتي', 'والب...</td>\n",
       "      <td>٦ شهور محبوره اعيش بيتي والبوليفارد يردح راسي...</td>\n",
       "      <td>['٦', 'شهور', 'محبوره', 'اعيش', 'بيتي', 'والبو...</td>\n",
       "      <td>0</td>\n",
       "      <td>Bndr888_</td>\n",
       "    </tr>\n",
       "    <tr>\n",
       "      <th>4</th>\n",
       "      <td>4</td>\n",
       "      <td>0</td>\n",
       "      <td>0</td>\n",
       "      <td>0</td>\n",
       "      <td>في شويه معرصين حطين الصورة دي  انا مش مطالبه ا...</td>\n",
       "      <td>19/01/2020</td>\n",
       "      <td>21:59</td>\n",
       "      <td>['شويه', 'معرصين', 'حطين', 'الصورة', 'دي', 'ان...</td>\n",
       "      <td>شويه معرصين حطين الصوره دي انا مش مطالبه اقعد...</td>\n",
       "      <td>['شويه', 'معرصين', 'حطين', 'الصوره', 'دي', 'ان...</td>\n",
       "      <td>0</td>\n",
       "      <td>Gahed0</td>\n",
       "    </tr>\n",
       "  </tbody>\n",
       "</table>\n",
       "</div>"
      ],
      "text/plain": [
       "   Unnamed: 0  replies  retweets  favorites  \\\n",
       "0           0        0         0          0   \n",
       "1           1        0         0          0   \n",
       "2           2        1         0          0   \n",
       "3           3        1         0          0   \n",
       "4           4        0         0          0   \n",
       "\n",
       "                                                text         day   time  \\\n",
       "0  وماذا عن إزعاج ما يزيد على ستة أشهر لأحياء سكن...  02/08/2020  09:16   \n",
       "1                                     عدلك يا رب      02/04/2020  22:03   \n",
       "2     إلا قرقعة ودوشة قارفينا ببيتي قال فن قال        24/01/2020  20:02   \n",
       "3  ٦ شهور محبورة اعيش ببيتي والبوليفارد يردح على ...  21/01/2020  21:03   \n",
       "4  في شويه معرصين حطين الصورة دي  انا مش مطالبه ا...  19/01/2020  21:59   \n",
       "\n",
       "                                              tokens  \\\n",
       "0  ['وماذا', 'إزعاج', 'يزيد', 'ستة', 'أشهر', 'لأح...   \n",
       "1                                     ['عدلك', 'رب']   \n",
       "2  ['قرقعة', 'ودوشة', 'قارفينا', 'ببيتي', 'قال', ...   \n",
       "3  ['٦', 'شهور', 'محبورة', 'اعيش', 'ببيتي', 'والب...   \n",
       "4  ['شويه', 'معرصين', 'حطين', 'الصورة', 'دي', 'ان...   \n",
       "\n",
       "                                          normalized  \\\n",
       "0   وماذا ازعاج يزيد سته اشهر لاحياء سكنيه والاف ...   \n",
       "1                                            عدلك رب   \n",
       "2                قرقعه ودوشه قارفينا بيتي قال فن قال   \n",
       "3   ٦ شهور محبوره اعيش بيتي والبوليفارد يردح راسي...   \n",
       "4   شويه معرصين حطين الصوره دي انا مش مطالبه اقعد...   \n",
       "\n",
       "                                           tokenized  predictions  \\\n",
       "0  ['وماذا', 'ازعاج', 'يزيد', 'سته', 'اشهر', 'لاح...            0   \n",
       "1                                     ['عدلك', 'رب']            1   \n",
       "2  ['قرقعه', 'ودوشه', 'قارفينا', 'بيتي', 'قال', '...            0   \n",
       "3  ['٦', 'شهور', 'محبوره', 'اعيش', 'بيتي', 'والبو...            0   \n",
       "4  ['شويه', 'معرصين', 'حطين', 'الصوره', 'دي', 'ان...            0   \n",
       "\n",
       "          username  \n",
       "0  SsE1j8MeFSuOZY9  \n",
       "1         Bndr888_  \n",
       "2         Bndr888_  \n",
       "3         Bndr888_  \n",
       "4           Gahed0  "
      ]
     },
     "execution_count": 16,
     "metadata": {},
     "output_type": "execute_result"
    }
   ],
   "source": [
    "# change values to numeric\n",
    "data_df['predictions'] = data_df['predictions'].map({'positive': 1, 'negative': 0}) \n",
    "data_df.head(5)"
   ]
  },
  {
   "cell_type": "code",
   "execution_count": 17,
   "metadata": {},
   "outputs": [],
   "source": [
    "# idneitfy the data and the labels\n",
    "data= data_df['tokenized']\n",
    "target= data_df['predictions']"
   ]
  },
  {
   "cell_type": "code",
   "execution_count": 18,
   "metadata": {},
   "outputs": [
    {
     "data": {
      "text/plain": [
       "(538, 4431)"
      ]
     },
     "execution_count": 18,
     "metadata": {},
     "output_type": "execute_result"
    }
   ],
   "source": [
    "# Use TfidfVectorizer for feature extraction (TFIDF to convert textual data to numeric form):\n",
    "tf_vec = TfidfVectorizer()\n",
    "X = tf_vec.fit_transform(data)\n",
    "X.shape"
   ]
  },
  {
   "cell_type": "code",
   "execution_count": 19,
   "metadata": {},
   "outputs": [],
   "source": [
    "# Training Phase\n",
    "X_train, X_test, y_train, y_test = train_test_split(X, target, test_size=0.33, random_state=0)"
   ]
  },
  {
   "cell_type": "code",
   "execution_count": 20,
   "metadata": {},
   "outputs": [
    {
     "name": "stdout",
     "output_type": "stream",
     "text": [
      "MultinomialNB accuracy: 0.77\n",
      "\n",
      "10-fold cross-validation:\n",
      "[0.7962963  0.7962963  0.7962963  0.77777778 0.77777778 0.77777778\n",
      " 0.77777778 0.7962963  0.79245283 0.79245283]\n",
      "The average accuracy of the MultinomialNB classifier is : 0.79\n",
      "\n",
      "Confusion matrix of the MultinomialNB classifier:\n",
      "[[137   0]\n",
      " [ 41   0]]\n",
      "\n",
      "Classification_report of MultinomialNB classifier:\n",
      "              precision    recall  f1-score   support\n",
      "\n",
      "           0       0.77      1.00      0.87       137\n",
      "           1       0.00      0.00      0.00        41\n",
      "\n",
      "    accuracy                           0.77       178\n",
      "   macro avg       0.38      0.50      0.43       178\n",
      "weighted avg       0.59      0.77      0.67       178\n",
      "\n",
      "----------------------------------------------------------------------------\n"
     ]
    },
    {
     "name": "stderr",
     "output_type": "stream",
     "text": [
      "/Users/lama/opt/anaconda3/lib/python3.7/site-packages/sklearn/metrics/_classification.py:1272: UndefinedMetricWarning:\n",
      "\n",
      "Precision and F-score are ill-defined and being set to 0.0 in labels with no predicted samples. Use `zero_division` parameter to control this behavior.\n",
      "\n"
     ]
    }
   ],
   "source": [
    "# create the classifer and fit the training data and lables\n",
    "classifier_nb = MultinomialNB().fit(X_train.todense(),y_train)\n",
    "\n",
    "print(\"MultinomialNB accuracy: %.2f\"%classifier_nb.score(X_test.todense(), y_test))\n",
    "\n",
    "#do a 10 fold cross-validation \n",
    "results_nb = cross_val_score(classifier_nb, X.todense(),target, cv=10)\n",
    "print(\"\\n10-fold cross-validation:\")\n",
    "print(results_nb)\n",
    "\n",
    "print(\"The average accuracy of the MultinomialNB classifier is : %.2f\" % np.mean(results_nb))\n",
    "\n",
    "print(\"\\nConfusion matrix of the MultinomialNB classifier:\")\n",
    "predicted_nb = classifier_nb.predict(X_test.todense())\n",
    "print(confusion_matrix(y_test,predicted_nb))\n",
    "\n",
    "\n",
    "print(\"\\nClassification_report of MultinomialNB classifier:\")\n",
    "print(classification_report(y_test,predicted_nb))\n",
    "print(\"----------------------------------------------------------------------------\")"
   ]
  },
  {
   "cell_type": "code",
   "execution_count": 21,
   "metadata": {},
   "outputs": [],
   "source": [
    "# calculate the fpr and tpr for all thresholds of the classification\n",
    "\n",
    "probs = classifier_nb.predict_proba(X_test)\n",
    "preds = probs[:,1]\n",
    "\n",
    "fpr, tpr, threshold = metrics.roc_curve(y_test, preds)\n",
    "roc_auc = metrics.auc(fpr, tpr)"
   ]
  },
  {
   "cell_type": "code",
   "execution_count": 22,
   "metadata": {},
   "outputs": [
    {
     "data": {
      "image/png": "[encoded data removed]",
      "text/plain": [
       "<Figure size 432x288 with 1 Axes>"
      ]
     },
     "metadata": {
      "needs_background": "light"
     },
     "output_type": "display_data"
    }
   ],
   "source": [
    "# polt AUC\n",
    "plt.title('Receiver Operating Characteristic for Naive Bayes classifier')\n",
    "plt.plot(fpr, tpr, 'b', label = 'AUC = %0.2f' % roc_auc)\n",
    "plt.legend(loc = 'lower right')\n",
    "plt.plot([0, 1], [0, 1],'r--')\n",
    "plt.xlim([0, 1])\n",
    "plt.ylim([0, 1])\n",
    "plt.ylabel('True Positive Rate')\n",
    "plt.xlabel('False Positive Rate')\n",
    "plt.show()"
   ]
  },
  {
   "cell_type": "code",
   "execution_count": null,
   "metadata": {},
   "outputs": [],
   "source": []
  }
 ],
 "metadata": {
  "kernelspec": {
   "display_name": "Python 3",
   "language": "python",
   "name": "python3"
  },
  "language_info": {
   "codemirror_mode": {
    "name": "ipython",
    "version": 3
   },
   "file_extension": ".py",
   "mimetype": "text/x-python",
   "name": "python",
   "nbconvert_exporter": "python",
   "pygments_lexer": "ipython3",
   "version": "3.7.4"
  }
 },
 "nbformat": 4,
 "nbformat_minor": 2
}
